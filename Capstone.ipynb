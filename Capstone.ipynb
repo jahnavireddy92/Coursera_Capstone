Import the pandas library as pd
Import the Numpy library as np
Print ('Hello Capstone Project Course!')
